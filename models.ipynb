{
 "cells": [
  {
   "cell_type": "markdown",
   "metadata": {},
   "source": [
    "# Import Packages"
   ]
  },
  {
   "cell_type": "code",
   "execution_count": 137,
   "metadata": {},
   "outputs": [],
   "source": [
    "import pandas as pd\n",
    "from sklearn.model_selection import train_test_split\n",
    "from sklearn.tree import DecisionTreeClassifier\n",
    "from sklearn.preprocessing import MinMaxScaler\n",
    "import numpy as np\n",
    "from collections import Counter"
   ]
  },
  {
   "cell_type": "markdown",
   "metadata": {},
   "source": [
    "# Loading Dataset"
   ]
  },
  {
   "cell_type": "code",
   "execution_count": 138,
   "metadata": {},
   "outputs": [
    {
     "data": {
      "text/plain": [
       "(159256, 12)"
      ]
     },
     "execution_count": 138,
     "metadata": {},
     "output_type": "execute_result"
    }
   ],
   "source": [
    "# Load the dataset\n",
    "data = pd.read_csv('our_data.csv')\n",
    "data.shape"
   ]
  },
  {
   "cell_type": "markdown",
   "metadata": {},
   "source": [
    "# Data Preprocessing"
   ]
  },
  {
   "cell_type": "code",
   "execution_count": 139,
   "metadata": {},
   "outputs": [],
   "source": [
    "# Feature Selection and Preprocessing\n",
    "continuous_features = ['height(cm)', 'waist(cm)', 'age']\n",
    "X = data[continuous_features]\n",
    "y = data['smoking']\n",
    "\n",
    "# Normalize continuous features\n",
    "scaler = MinMaxScaler()\n",
    "X_scaled = scaler.fit_transform(X)"
   ]
  },
  {
   "cell_type": "markdown",
   "metadata": {},
   "source": [
    "# Data Splitting"
   ]
  },
  {
   "cell_type": "code",
   "execution_count": 140,
   "metadata": {},
   "outputs": [
    {
     "name": "stdout",
     "output_type": "stream",
     "text": [
      "The size of training features data =  (111479, 3)\n",
      "The size of validation features data =  (23888, 3)\n",
      "The size of testing features data =  (23889, 3)\n",
      "The size of training targets data =  (111479,)\n",
      "The size of validation targets data =  (23888,)\n",
      "The size of testing targets data =  (23889,)\n"
     ]
    }
   ],
   "source": [
    "# Split the dataset to 70% training, 15% validation & 15% testing\n",
    "X_train, X_temp, y_train, y_temp = train_test_split(X_scaled, y, test_size=0.3, random_state=42)\n",
    "X_val, X_test, y_val, y_test = train_test_split(X_temp, y_temp, test_size=0.5, random_state=42)\n",
    "print(\"The size of training features data = \", X_train.shape)\n",
    "print(\"The size of validation features data = \", X_val.shape)\n",
    "print(\"The size of testing features data = \", X_test.shape)\n",
    "print(\"The size of training targets data = \", y_train.shape)\n",
    "print(\"The size of validation targets data = \", y_val.shape)\n",
    "print(\"The size of testing targets data = \", y_test.shape)"
   ]
  },
  {
   "cell_type": "markdown",
   "metadata": {},
   "source": [
    "# Random Forest"
   ]
  },
  {
   "cell_type": "markdown",
   "metadata": {},
   "source": [
    "### Training:\n",
    "Given the whole dataset:\n",
    "* Get a subset of the dataset\n",
    "* Create a decision tree\n",
    "* Repeat as many as the number of trees\n",
    "### Testing:\n",
    "Given a data point:\n",
    "* Get the predictions from each tree\n",
    "* Since we are in a classification problem we will take the majority vote\n"
   ]
  },
  {
   "cell_type": "code",
   "execution_count": 141,
   "metadata": {},
   "outputs": [],
   "source": [
    "class RandomForest:\n",
    "    def __init__(self, n_trees=10, max_depth=10, min_samples_split=2):\n",
    "        self.n_trees = n_trees\n",
    "        self.max_depth=max_depth\n",
    "        self.min_samples_split=min_samples_split\n",
    "        self.trees = []\n",
    "\n",
    "    def fit(self, X, y):\n",
    "        self.trees = []\n",
    "        for _ in range(self.n_trees):\n",
    "            tree = DecisionTreeClassifier(max_depth=self.max_depth,\n",
    "                                          min_samples_split=self.min_samples_split)\n",
    "            X_sample, y_sample = self._bootstrap_samples(X, y)\n",
    "            tree.fit(X_sample, y_sample)\n",
    "            self.trees.append(tree)\n",
    "\n",
    "    def _bootstrap_samples(self, X, y):\n",
    "        n_samples = X.shape[0]\n",
    "        idxs = np.random.choice(n_samples, size=n_samples, replace=True)\n",
    "        # Ensure X and y are numpy arrays for correct indexing\n",
    "        X_sample = X.iloc[idxs].to_numpy() if isinstance(X, pd.DataFrame) else X[idxs]\n",
    "        y_sample = y.iloc[idxs].to_numpy() if isinstance(y, pd.Series) else y[idxs]\n",
    "        return X_sample, y_sample\n",
    "\n",
    "    def _most_common_label(self, y):\n",
    "        counter = Counter(y)\n",
    "        most_common = counter.most_common(1)[0][0]\n",
    "        return most_common\n",
    "\n",
    "    def predict(self, X):\n",
    "        predictions = np.array([tree.predict(X) for tree in self.trees])\n",
    "        tree_preds = np.swapaxes(predictions, 0, 1)\n",
    "        predictions = np.array([self._most_common_label(pred) for pred in tree_preds])\n",
    "        return predictions    "
   ]
  },
  {
   "cell_type": "markdown",
   "metadata": {},
   "source": [
    "### Implementing Grid Search for hyperparameters tuning"
   ]
  },
  {
   "cell_type": "code",
   "execution_count": 142,
   "metadata": {},
   "outputs": [
    {
     "name": "stdout",
     "output_type": "stream",
     "text": [
      "Params: n_trees=50, max_depth=5, min_samples_split=2, Accuracy=0.7161\n",
      "Params: n_trees=50, max_depth=5, min_samples_split=5, Accuracy=0.7158\n",
      "Params: n_trees=50, max_depth=5, min_samples_split=10, Accuracy=0.7165\n",
      "Params: n_trees=50, max_depth=10, min_samples_split=2, Accuracy=0.7149\n",
      "Params: n_trees=50, max_depth=10, min_samples_split=5, Accuracy=0.7137\n",
      "Params: n_trees=50, max_depth=10, min_samples_split=10, Accuracy=0.7145\n",
      "Params: n_trees=50, max_depth=20, min_samples_split=2, Accuracy=0.7022\n",
      "Params: n_trees=50, max_depth=20, min_samples_split=5, Accuracy=0.7033\n",
      "Params: n_trees=50, max_depth=20, min_samples_split=10, Accuracy=0.7045\n",
      "Params: n_trees=100, max_depth=5, min_samples_split=2, Accuracy=0.7164\n",
      "Params: n_trees=100, max_depth=5, min_samples_split=5, Accuracy=0.7163\n",
      "Params: n_trees=100, max_depth=5, min_samples_split=10, Accuracy=0.7163\n",
      "Params: n_trees=100, max_depth=10, min_samples_split=2, Accuracy=0.7145\n",
      "Params: n_trees=100, max_depth=10, min_samples_split=5, Accuracy=0.7144\n",
      "Params: n_trees=100, max_depth=10, min_samples_split=10, Accuracy=0.7144\n",
      "Params: n_trees=100, max_depth=20, min_samples_split=2, Accuracy=0.7039\n",
      "Params: n_trees=100, max_depth=20, min_samples_split=5, Accuracy=0.7020\n",
      "Params: n_trees=100, max_depth=20, min_samples_split=10, Accuracy=0.7042\n",
      "Params: n_trees=150, max_depth=5, min_samples_split=2, Accuracy=0.7164\n",
      "Params: n_trees=150, max_depth=5, min_samples_split=5, Accuracy=0.7164\n",
      "Params: n_trees=150, max_depth=5, min_samples_split=10, Accuracy=0.7163\n",
      "Params: n_trees=150, max_depth=10, min_samples_split=2, Accuracy=0.7144\n",
      "Params: n_trees=150, max_depth=10, min_samples_split=5, Accuracy=0.7148\n",
      "Params: n_trees=150, max_depth=10, min_samples_split=10, Accuracy=0.7146\n",
      "Params: n_trees=150, max_depth=20, min_samples_split=2, Accuracy=0.7028\n",
      "Params: n_trees=150, max_depth=20, min_samples_split=5, Accuracy=0.7037\n",
      "Params: n_trees=150, max_depth=20, min_samples_split=10, Accuracy=0.7055\n",
      "\n",
      "Best Parameters: {'n_trees': 50, 'max_depth': 5, 'min_samples_split': 10}\n",
      "Best Accuracy: 0.7164685197588747\n"
     ]
    }
   ],
   "source": [
    "# hyperparameters of random forest\n",
    "param_grid = {\n",
    "    'n_trees': [50, 100, 150],\n",
    "    'max_depth': [5, 10, 20],\n",
    "    'min_samples_split': [2, 5, 10]\n",
    "}\n",
    "best_accuracy = 0\n",
    "for n_trees in param_grid['n_trees']:\n",
    "    for max_depth in param_grid['max_depth']:\n",
    "        for min_samples_split in param_grid['min_samples_split']:\n",
    "            # Initialize and train the RandomForest model\n",
    "            rf_model = RandomForest(\n",
    "                n_trees=n_trees, \n",
    "                max_depth=max_depth, \n",
    "                min_samples_split=min_samples_split\n",
    "            )\n",
    "            rf_model.fit(X_train, y_train)\n",
    "            \n",
    "            # Make predictions on the validation set\n",
    "            y_pred = rf_model.predict(X_val)\n",
    "            \n",
    "            # Calculate accuracy\n",
    "            correct_predictions = sum(y_val == y_pred)  # Count correct predictions\n",
    "            accuracy = correct_predictions / len(y_val)  # Proportion of correct predictions\n",
    "            \n",
    "            # Update best parameters if the current model is better\n",
    "            if accuracy > best_accuracy:\n",
    "                best_accuracy = accuracy\n",
    "                best_params = {\n",
    "                    'n_trees': n_trees,\n",
    "                    'max_depth': max_depth,\n",
    "                    'min_samples_split': min_samples_split\n",
    "                }\n",
    "                \n",
    "            # Print progress (optional)\n",
    "            print(f\"Params: n_trees={n_trees}, max_depth={max_depth}, min_samples_split={min_samples_split}, Accuracy={accuracy:.4f}\")\n",
    "\n",
    "# Output the best parameters and accuracy\n",
    "print(\"\\nBest Parameters:\", best_params)\n",
    "print(\"Best Accuracy:\", best_accuracy)"
   ]
  }
 ],
 "metadata": {
  "kernelspec": {
   "display_name": "Python 3",
   "language": "python",
   "name": "python3"
  },
  "language_info": {
   "codemirror_mode": {
    "name": "ipython",
    "version": 3
   },
   "file_extension": ".py",
   "mimetype": "text/x-python",
   "name": "python",
   "nbconvert_exporter": "python",
   "pygments_lexer": "ipython3",
   "version": "3.10.1"
  }
 },
 "nbformat": 4,
 "nbformat_minor": 2
}
